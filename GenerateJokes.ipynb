{
 "cells": [
  {
   "cell_type": "code",
   "execution_count": 1,
   "id": "temporal-addiction",
   "metadata": {},
   "outputs": [],
   "source": [
    "import glob\n",
    "import string\n",
    "import unicodedata\n",
    "import re\n",
    "from collections import Counter\n",
    "import numpy as np\n",
    "\n",
    "import torch\n",
    "import torch.nn as nn\n",
    "from torch.utils.data import TensorDataset, DataLoader\n",
    "from torch.autograd import Variable\n",
    "\n",
    "from livelossplot import PlotLosses\n",
    "\n",
    "import pandas as pd"
   ]
  },
  {
   "cell_type": "code",
   "execution_count": 2,
   "id": "rolled-shuttle",
   "metadata": {},
   "outputs": [
    {
     "name": "stdout",
     "output_type": "stream",
     "text": [
      "No GPU available! Running on CPU\n"
     ]
    }
   ],
   "source": [
    "def set_seed(seed):\n",
    "    random.seed(seed)\n",
    "    np.random.seed(seed)\n",
    "    torch.manual_seed(seed)\n",
    "    torch.cuda.manual_seed_all(seed)\n",
    "\n",
    "    torch.backends.cudnn.benchmark = False  ##uses the inbuilt cudnn auto-tuner to find the fastest convolution algorithms. -\n",
    "    torch.backends.cudnn.enabled   = False\n",
    "\n",
    "    return True\n",
    "\n",
    "device = 'cpu'\n",
    "if torch.cuda.device_count() > 0 and torch.cuda.is_available():\n",
    "    print(\"Cuda installed! Running on GPU!\")\n",
    "    print(torch.cuda.get_device_name())\n",
    "    device = 'cuda'\n",
    "else:\n",
    "    print(\"No GPU available! Running on CPU\")"
   ]
  },
  {
   "cell_type": "code",
   "execution_count": 3,
   "id": "industrial-jumping",
   "metadata": {},
   "outputs": [],
   "source": [
    "class WordsTensorDataset(TensorDataset):\n",
    "    def __init__(self, data_list, sequence_length=4):\n",
    "        \"\"\"\n",
    "        Args:\n",
    "            data_list (dictionary): A list of all the words in the file\n",
    "            sequence_length: the number of words in each input sample, and output sample\n",
    "        \"\"\"\n",
    "        self.sequence_length = sequence_length\n",
    "        self.data_list = data_list\n",
    "        self.unique_words = self.get_unique_words()\n",
    "\n",
    "        self.word_to_idx = {word: idx for idx, word in enumerate(self.unique_words)}  # creates a dictionary of mappings of words to indices\n",
    "        self.idx_to_word = {idx: word for idx, word in enumerate(self.unique_words)}  # creates a dictionary of mappings of indices to words     \n",
    "\n",
    "        self.words_idxs = [self.word_to_idx[word] for word in data] # returns a list of the dat with the words represented with their indices\n",
    "\n",
    "    def get_unique_words(self):\n",
    "        word_counts = Counter(self.data_list)\n",
    "        return sorted(word_counts, key=word_counts.get, reverse=True)  # returns a list of the unique words sorted in ascending order\n",
    "\n",
    "    def __len__(self):\n",
    "        return len(self.words_idxs) - self.sequence_length\n",
    "\n",
    "    def __getitem__(self, idx):\n",
    "\n",
    "        sample_input = torch.tensor(self.words_idxs[idx:idx+self.sequence_length])\n",
    "        sample_output = torch.tensor(self.words_idxs[idx+1:idx+self.sequence_length+1])\n",
    "\n",
    "        return sample_input, sample_output"
   ]
  },
  {
   "cell_type": "code",
   "execution_count": 4,
   "id": "forward-reserve",
   "metadata": {},
   "outputs": [
    {
     "name": "stdout",
     "output_type": "stream",
     "text": [
      "Bucuresti\n"
     ]
    }
   ],
   "source": [
    "def unicode_to_ascii(s):\n",
    "    return ''.join(\n",
    "        c for c in unicodedata.normalize('NFD', s)\n",
    "        if unicodedata.category(c) != 'Mn'\n",
    "        and c in string.ascii_letters\n",
    "    )\n",
    "\n",
    "print(unicode_to_ascii('București'))"
   ]
  },
  {
   "cell_type": "code",
   "execution_count": 5,
   "id": "minute-kazakhstan",
   "metadata": {},
   "outputs": [],
   "source": [
    "def readFile_txt(filename): \n",
    "    \"\"\" \n",
    "    Read a txt file and return list with line entries \n",
    "    \"\"\"\n",
    "    lines = re.split(' |\\n',open(filename, encoding=\"utf8\").read().strip())\n",
    "    return [unicode_to_ascii(line) for line in lines]\n",
    "\n",
    "data = readFile_txt('data_gen/reddit-cleanjokes.csv')"
   ]
  },
  {
   "cell_type": "code",
   "execution_count": 6,
   "id": "experienced-trunk",
   "metadata": {},
   "outputs": [
    {
     "name": "stdout",
     "output_type": "stream",
     "text": [
      "23914\n"
     ]
    }
   ],
   "source": [
    "def readFile_csv(filename, header):\n",
    "    \"\"\" \n",
    "    Read a csv file and return list with line entries \n",
    "    \"\"\"\n",
    "    dataframe = pd.read_csv(filename)\n",
    "    data = dataframe[header].str.cat(sep=' ')\n",
    "    data = data.split(' ')\n",
    "    return data\n",
    "\n",
    "filename, header = 'data_gen/reddit-cleanjokes.csv', 'Joke'\n",
    "data = readFile_csv(filename, header)\n",
    "#print((data))\n",
    "print(len(data))"
   ]
  },
  {
   "cell_type": "code",
   "execution_count": 7,
   "id": "indoor-crest",
   "metadata": {},
   "outputs": [
    {
     "name": "stdout",
     "output_type": "stream",
     "text": [
      "6925\n"
     ]
    }
   ],
   "source": [
    "word_counts = Counter(data)\n",
    "uniq_words = sorted(word_counts, key=word_counts.get, reverse=True)\n",
    "#print(uniq_words)\n",
    "print(len(word_counts))"
   ]
  },
  {
   "cell_type": "code",
   "execution_count": 8,
   "id": "bizarre-matrix",
   "metadata": {},
   "outputs": [],
   "source": [
    "word_to_index = {word: index for index, word in enumerate(uniq_words)}\n",
    "index_to_word = {index: word for index, word in enumerate(uniq_words)}\n",
    "\n",
    "words_indexes = [word_to_index[word] for word in data]\n",
    "#print(words_indexes)"
   ]
  },
  {
   "cell_type": "code",
   "execution_count": 9,
   "id": "ignored-soundtrack",
   "metadata": {},
   "outputs": [
    {
     "name": "stdout",
     "output_type": "stream",
     "text": [
      "tensor([  2,   8,   0, 248])\n",
      "tensor([  8,   0, 248,  20])\n"
     ]
    }
   ],
   "source": [
    "sequence_length= 4\n",
    "index = 0\n",
    "tensor_in = torch.tensor(words_indexes[index:index+sequence_length])\n",
    "tensor_out =torch.tensor(words_indexes[index+1:index+sequence_length+1])\n",
    "\n",
    "print(tensor_in)\n",
    "print(tensor_out)"
   ]
  },
  {
   "cell_type": "code",
   "execution_count": 10,
   "id": "japanese-flesh",
   "metadata": {},
   "outputs": [
    {
     "data": {
      "text/plain": [
       "[tensor([[   2,    8,    0,  248],\n",
       "         [   8,    0,  248,   20],\n",
       "         [   0,  248,   20,    4],\n",
       "         [ 248,   20,    4,    0],\n",
       "         [  20,    4,    0, 1905]]),\n",
       " tensor([[   8,    0,  248,   20],\n",
       "         [   0,  248,   20,    4],\n",
       "         [ 248,   20,    4,    0],\n",
       "         [  20,    4,    0, 1905],\n",
       "         [   4,    0, 1905, 1906]])]"
      ]
     },
     "execution_count": 10,
     "metadata": {},
     "output_type": "execute_result"
    }
   ],
   "source": [
    "words_dataset = WordsTensorDataset(data, sequence_length=4)\n",
    "words_dataloader = DataLoader(words_dataset, batch_size=5, shuffle=False)\n",
    "\n",
    "next(iter(words_dataloader))"
   ]
  },
  {
   "cell_type": "code",
   "execution_count": 11,
   "id": "regular-floor",
   "metadata": {},
   "outputs": [],
   "source": [
    "class LSTM_GEN(nn.Module):\n",
    "    def __init__(self, input_size, embedding_dim, hidden_size, num_layers, num_unique_words):\n",
    "        super(LSTM_GEN, self).__init__()\n",
    "\n",
    "        self.input_size = input_size\n",
    "        self.embedding_dim = embedding_dim\n",
    "        self.hidden_size = hidden_size\n",
    "        self.num_layers = num_layers\n",
    "        self.num_unique_words = num_unique_words\n",
    "        self.batch_size = batch_size\n",
    "        \n",
    "        self.embedding = nn.Embedding(self.num_unique_words, self.embedding_dim)\n",
    "        self.lstm = nn.LSTM(self.input_size, self.hidden_size, self.num_layers, batch_first=True)\n",
    "        self.fc = nn.Linear(self.hidden_size, self.num_unique_words)\n",
    "\n",
    "\n",
    "    def init_states_h_c(self, batch_size):\n",
    "          return (torch.zeros(self.num_layers, batch_size, self.hidden_size, requires_grad=True).to(device),\n",
    "          torch.zeros(self.num_layers, batch_size, self.hidden_size,  requires_grad=True).to(device))\n",
    "\n",
    "\n",
    "    def forward(self, x):\n",
    "        \n",
    "        batch_size = x.size(0)\n",
    "        (state_h, state_c) = self.init_states_h_c(batch_size)\n",
    "        embedded = self.embedding(x)\n",
    "        output, (state_h, state_c) = self.lstm(embedded, (state_h, state_c))\n",
    "        logits = self.fc(output)\n",
    "        return logits, (state_h, state_c)\n",
    "\n",
    "\n",
    "def count_trainable_parameters(model):\n",
    "    return sum([p.numel() for p in model.parameters() if p.requires_grad])"
   ]
  },
  {
   "cell_type": "code",
   "execution_count": 12,
   "id": "encouraging-magnitude",
   "metadata": {},
   "outputs": [],
   "source": [
    "def train_lstm_gen(model, optimizer, criterion, dataloader):\n",
    "    model.train()\n",
    "    train_loss, train_accuracy = 0, 0\n",
    "    \n",
    "    for i, (x, y) in enumerate(dataloader):\n",
    "\n",
    "        x, y = x.to(device), y.to(device)\n",
    "        optimizer.zero_grad()\n",
    "        y_pred, (state_h,state_c) = model(x)\n",
    "        \n",
    "        loss = criterion(y_pred.permute(0,2,1), y)               #change shape as crossentropy takes input as batch_size, number of classes, d1, d2, ...\n",
    "        train_loss += loss\n",
    "\n",
    "        loss.backward()\n",
    "        optimizer.step()\n",
    "\n",
    "    return train_loss/len(dataloader)\n",
    "\n",
    "\n",
    "def predict_lstm_gen(dataset, model, text, next_words=10):\n",
    "    \n",
    "    model.eval()\n",
    "\n",
    "    words = text.split(' ')\n",
    "\n",
    "    for i in range(next_words):\n",
    "        x = torch.tensor([[dataset.word_to_idx[word] for word in words[i:]]]).to(device)\n",
    "        y_pred, (state_h, state_c) = lstm_gen(x)\n",
    "       \n",
    "        last_word_logits = y_pred[0][-1]\n",
    "                  \n",
    "        p = torch.nn.functional.softmax(last_word_logits, dim=0).detach().cpu().numpy()\n",
    "        word_idx = np.random.choice(len(last_word_logits), p=p)\n",
    "\n",
    "        words.append(dataset.idx_to_word[word_idx])\n",
    "\n",
    "    return ' '.join(words)"
   ]
  },
  {
   "cell_type": "code",
   "execution_count": 13,
   "id": "consecutive-treasure",
   "metadata": {},
   "outputs": [
    {
     "data": {
      "image/png": "[encoded data removed]",
      "text/plain": [
       "<Figure size 864x576 with 2 Axes>"
      ]
     },
     "metadata": {
      "needs_background": "light"
     },
     "output_type": "display_data"
    },
    {
     "name": "stdout",
     "output_type": "stream",
     "text": [
      "log loss\n",
      "\tlog loss         \t (min:    0.945, max:    7.415, cur:    0.945)\n"
     ]
    }
   ],
   "source": [
    "device = device = torch.device(\"cuda\" if torch.cuda.is_available() else \"cpu\") \n",
    "\n",
    "input_size = 128\n",
    "n_hidden = 128                         \n",
    "n_layers = 1\n",
    "embedding_dim = input_size\n",
    "n_unique_words = len(words_dataset.unique_words)\n",
    "batch_size = 350\n",
    "sequence_length = 4\n",
    "\n",
    "lr = 5e-3\n",
    "momentum = 0.5\n",
    "n_epochs = 30\n",
    "\n",
    "lstm_gen = LSTM_GEN(input_size, embedding_dim, n_hidden, n_layers, n_unique_words).to(device)\n",
    "print(f'The model has {count_trainable_parameters(lstm_gen):,} trainable parameters')\n",
    "\n",
    "criterion = nn.CrossEntropyLoss()\n",
    "optimizer = torch.optim.Adam(lstm_gen.parameters(), lr=lr)\n",
    "\n",
    "words_dataset = WordsTensorDataset(data, sequence_length=sequence_length)\n",
    "words_dataloader = DataLoader(words_dataset, batch_size=batch_size, shuffle=False)  \n",
    "\n",
    "# Keep track of losses for plotting\n",
    "liveloss = PlotLosses()\n",
    "for epoch in range(n_epochs):\n",
    "    logs = {}\n",
    "    train_loss = train_lstm_gen(lstm_gen, optimizer, criterion, words_dataloader)\n",
    "\n",
    "    print(epoch,train_loss)\n",
    "\n",
    "    logs['' + 'log loss'] = train_loss.item()\n",
    "    liveloss.update(logs)\n",
    "    liveloss.draw()"
   ]
  },
  {
   "cell_type": "code",
   "execution_count": 14,
   "id": "minimal-devon",
   "metadata": {},
   "outputs": [
    {
     "name": "stdout",
     "output_type": "stream",
     "text": [
      "Knock knock. Whos there? Well, you better get glasses, and stop doing drugs A stamp collector walks into a bar... And asks the nearest person \"Hey, is the bar tender here?\" I tired playing soccer But I couldn't get a medal... What do you call a deep-sea diving dog? Scuba - Doo! Where did the fish go when it needed an operation? To the sturgeon My English teacher got really angry about the format of my essay. It wasn't justified. Starcraft: Why did the knob say to the rock? I wish I was a little boulder! What goes up and down but does not\n"
     ]
    }
   ],
   "source": [
    "print(predict_lstm_gen(words_dataset, lstm_gen, text='Knock knock. Whos there?', next_words=100))"
   ]
  },
  {
   "cell_type": "code",
   "execution_count": null,
   "id": "lightweight-contrast",
   "metadata": {},
   "outputs": [],
   "source": []
  }
 ],
 "metadata": {
  "kernelspec": {
   "display_name": "Python 3",
   "language": "python",
   "name": "python3"
  },
  "language_info": {
   "codemirror_mode": {
    "name": "ipython",
    "version": 3
   },
   "file_extension": ".py",
   "mimetype": "text/x-python",
   "name": "python",
   "nbconvert_exporter": "python",
   "pygments_lexer": "ipython3",
   "version": "3.7.10"
  }
 },
 "nbformat": 4,
 "nbformat_minor": 5
}
